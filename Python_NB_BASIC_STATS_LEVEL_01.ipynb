{
 "cells": [
  {
   "cell_type": "markdown",
   "id": "ee38d05c",
   "metadata": {},
   "source": [
    "## Assignment_BASIC_STATS_LEVEL_01"
   ]
  },
  {
   "cell_type": "code",
   "execution_count": 1,
   "id": "97e66689",
   "metadata": {},
   "outputs": [],
   "source": [
    "import pandas as pd\n",
    "import numpy as np\n",
    "import matplotlib.pyplot as plt\n",
    "import seaborn as sns"
   ]
  },
  {
   "cell_type": "code",
   "execution_count": 2,
   "id": "b3e28a95",
   "metadata": {},
   "outputs": [
    {
     "data": {
      "text/plain": [
       "'Q7) Calculate Mean, Median, Mode, Variance, Standard Deviation, Range &comment about the values / draw inferences, \\n       for the given dataset\\n   -For Points,Score,Weigh>\\n    Find Mean, Median, Mode, Variance, Standard Deviation, and Range and also Comment about the values/ Draw some inferences.\\n\\nUse Q7.csv file \\n'"
      ]
     },
     "execution_count": 2,
     "metadata": {},
     "output_type": "execute_result"
    }
   ],
   "source": [
    "'''Q7) Calculate Mean, Median, Mode, Variance, Standard Deviation, Range &comment about the values / draw inferences, \n",
    "       for the given dataset\n",
    "   -For Points,Score,Weigh>\n",
    "    Find Mean, Median, Mode, Variance, Standard Deviation, and Range and also Comment about the values/ Draw some inferences.\n",
    "\n",
    "Use Q7.csv file \n",
    "'''"
   ]
  },
  {
   "cell_type": "code",
   "execution_count": 3,
   "id": "f384178f",
   "metadata": {},
   "outputs": [],
   "source": [
    "df = pd.read_csv(\"C:/Users/HP/Desktop/DATA SCIENCE AUG 2023/01_SWAPNL_DESAI_BATCH_(21082023)/10_DS_ASSIGNMENTS/01_BASIC_STATS_LEVEL_01/Q7.csv\")"
   ]
  },
  {
   "cell_type": "code",
   "execution_count": 4,
   "id": "f3e6fd57",
   "metadata": {},
   "outputs": [],
   "source": [
    "df = pd.read_csv(\"Q7.csv\")           #In both way we can read the csv file "
   ]
  },
  {
   "cell_type": "code",
   "execution_count": 5,
   "id": "1cbbf815",
   "metadata": {},
   "outputs": [
    {
     "data": {
      "text/html": [
       "<div>\n",
       "<style scoped>\n",
       "    .dataframe tbody tr th:only-of-type {\n",
       "        vertical-align: middle;\n",
       "    }\n",
       "\n",
       "    .dataframe tbody tr th {\n",
       "        vertical-align: top;\n",
       "    }\n",
       "\n",
       "    .dataframe thead th {\n",
       "        text-align: right;\n",
       "    }\n",
       "</style>\n",
       "<table border=\"1\" class=\"dataframe\">\n",
       "  <thead>\n",
       "    <tr style=\"text-align: right;\">\n",
       "      <th></th>\n",
       "      <th>Unnamed: 0</th>\n",
       "      <th>Points</th>\n",
       "      <th>Score</th>\n",
       "      <th>Weigh</th>\n",
       "    </tr>\n",
       "  </thead>\n",
       "  <tbody>\n",
       "    <tr>\n",
       "      <th>0</th>\n",
       "      <td>Mazda RX4</td>\n",
       "      <td>3.90</td>\n",
       "      <td>2.620</td>\n",
       "      <td>16.46</td>\n",
       "    </tr>\n",
       "    <tr>\n",
       "      <th>1</th>\n",
       "      <td>Mazda RX4 Wag</td>\n",
       "      <td>3.90</td>\n",
       "      <td>2.875</td>\n",
       "      <td>17.02</td>\n",
       "    </tr>\n",
       "    <tr>\n",
       "      <th>2</th>\n",
       "      <td>Datsun 710</td>\n",
       "      <td>3.85</td>\n",
       "      <td>2.320</td>\n",
       "      <td>18.61</td>\n",
       "    </tr>\n",
       "    <tr>\n",
       "      <th>3</th>\n",
       "      <td>Hornet 4 Drive</td>\n",
       "      <td>3.08</td>\n",
       "      <td>3.215</td>\n",
       "      <td>19.44</td>\n",
       "    </tr>\n",
       "    <tr>\n",
       "      <th>4</th>\n",
       "      <td>Hornet Sportabout</td>\n",
       "      <td>3.15</td>\n",
       "      <td>3.440</td>\n",
       "      <td>17.02</td>\n",
       "    </tr>\n",
       "  </tbody>\n",
       "</table>\n",
       "</div>"
      ],
      "text/plain": [
       "          Unnamed: 0  Points  Score  Weigh\n",
       "0          Mazda RX4    3.90  2.620  16.46\n",
       "1      Mazda RX4 Wag    3.90  2.875  17.02\n",
       "2         Datsun 710    3.85  2.320  18.61\n",
       "3     Hornet 4 Drive    3.08  3.215  19.44\n",
       "4  Hornet Sportabout    3.15  3.440  17.02"
      ]
     },
     "execution_count": 5,
     "metadata": {},
     "output_type": "execute_result"
    }
   ],
   "source": [
    "df.head()              #It shows default top 5 rows"
   ]
  },
  {
   "cell_type": "code",
   "execution_count": 6,
   "id": "e05e5a5c",
   "metadata": {},
   "outputs": [
    {
     "name": "stdout",
     "output_type": "stream",
     "text": [
      "<class 'pandas.core.frame.DataFrame'>\n",
      "RangeIndex: 32 entries, 0 to 31\n",
      "Data columns (total 4 columns):\n",
      " #   Column      Non-Null Count  Dtype  \n",
      "---  ------      --------------  -----  \n",
      " 0   Unnamed: 0  32 non-null     object \n",
      " 1   Points      32 non-null     float64\n",
      " 2   Score       32 non-null     float64\n",
      " 3   Weigh       32 non-null     float64\n",
      "dtypes: float64(3), object(1)\n",
      "memory usage: 1.1+ KB\n"
     ]
    }
   ],
   "source": [
    "df.info()         #We get information about dataset(no of rows, columns and type of data)"
   ]
  },
  {
   "cell_type": "markdown",
   "id": "87a16c7d",
   "metadata": {},
   "source": [
    "#### 1) Calculate mean of Points, Score, Weigh"
   ]
  },
  {
   "cell_type": "code",
   "execution_count": 7,
   "id": "881780a0",
   "metadata": {},
   "outputs": [
    {
     "data": {
      "text/plain": [
       "3.5965625"
      ]
     },
     "execution_count": 7,
     "metadata": {},
     "output_type": "execute_result"
    }
   ],
   "source": [
    "# Calculate mean of Points, Score, Weigh\n",
    "m1 =df[\"Points\"].mean()\n",
    "m1"
   ]
  },
  {
   "cell_type": "code",
   "execution_count": 8,
   "id": "564443ba",
   "metadata": {},
   "outputs": [
    {
     "data": {
      "text/plain": [
       "3.2172500000000004"
      ]
     },
     "execution_count": 8,
     "metadata": {},
     "output_type": "execute_result"
    }
   ],
   "source": [
    "m2 =df[\"Score\"].mean()\n",
    "m2"
   ]
  },
  {
   "cell_type": "code",
   "execution_count": 9,
   "id": "8c05717f",
   "metadata": {},
   "outputs": [
    {
     "data": {
      "text/plain": [
       "17.848750000000003"
      ]
     },
     "execution_count": 9,
     "metadata": {},
     "output_type": "execute_result"
    }
   ],
   "source": [
    "m3 =df[\"Weigh\"].mean()\n",
    "m3"
   ]
  },
  {
   "cell_type": "markdown",
   "id": "c9738904",
   "metadata": {},
   "source": [
    "#### 2) Calculate median of Points, Score, Weigh"
   ]
  },
  {
   "cell_type": "code",
   "execution_count": 10,
   "id": "bd7e63fb",
   "metadata": {},
   "outputs": [
    {
     "data": {
      "text/plain": [
       "3.6950000000000003"
      ]
     },
     "execution_count": 10,
     "metadata": {},
     "output_type": "execute_result"
    }
   ],
   "source": [
    "M1 =df[\"Points\"].median()\n",
    "M1"
   ]
  },
  {
   "cell_type": "code",
   "execution_count": 11,
   "id": "aa81c650",
   "metadata": {},
   "outputs": [
    {
     "data": {
      "text/plain": [
       "3.325"
      ]
     },
     "execution_count": 11,
     "metadata": {},
     "output_type": "execute_result"
    }
   ],
   "source": [
    "M2 =df[\"Score\"].median()\n",
    "M2"
   ]
  },
  {
   "cell_type": "code",
   "execution_count": 12,
   "id": "57303952",
   "metadata": {},
   "outputs": [
    {
     "data": {
      "text/plain": [
       "17.71"
      ]
     },
     "execution_count": 12,
     "metadata": {},
     "output_type": "execute_result"
    }
   ],
   "source": [
    "M3 =df[\"Weigh\"].median()\n",
    "M3"
   ]
  },
  {
   "cell_type": "markdown",
   "id": "8830cc66",
   "metadata": {},
   "source": [
    "#### 3) Calculate mode of Points, Score, Weigh"
   ]
  },
  {
   "cell_type": "code",
   "execution_count": 13,
   "id": "4b3221fd",
   "metadata": {},
   "outputs": [
    {
     "data": {
      "text/plain": [
       "[3.07, 3.92]"
      ]
     },
     "execution_count": 13,
     "metadata": {},
     "output_type": "execute_result"
    }
   ],
   "source": [
    "df[\"Points\"].mode().tolist()"
   ]
  },
  {
   "cell_type": "code",
   "execution_count": 14,
   "id": "ec66046f",
   "metadata": {},
   "outputs": [
    {
     "data": {
      "text/plain": [
       "[3.44]"
      ]
     },
     "execution_count": 14,
     "metadata": {},
     "output_type": "execute_result"
    }
   ],
   "source": [
    "df[\"Score\"].mode().tolist()"
   ]
  },
  {
   "cell_type": "code",
   "execution_count": 15,
   "id": "a869a37b",
   "metadata": {},
   "outputs": [
    {
     "data": {
      "text/plain": [
       "[17.02, 18.9]"
      ]
     },
     "execution_count": 15,
     "metadata": {},
     "output_type": "execute_result"
    }
   ],
   "source": [
    "df[\"Weigh\"].mode().tolist()"
   ]
  },
  {
   "cell_type": "markdown",
   "id": "89424403",
   "metadata": {},
   "source": [
    "#### 4) Calculate variance of Points, Score, Weigh"
   ]
  },
  {
   "cell_type": "code",
   "execution_count": 16,
   "id": "5fb5c71f",
   "metadata": {},
   "outputs": [
    {
     "data": {
      "text/plain": [
       "0.28588135080645166"
      ]
     },
     "execution_count": 16,
     "metadata": {},
     "output_type": "execute_result"
    }
   ],
   "source": [
    "df[\"Points\"].var()"
   ]
  },
  {
   "cell_type": "code",
   "execution_count": 17,
   "id": "cf9e2ffa",
   "metadata": {},
   "outputs": [
    {
     "data": {
      "text/plain": [
       "0.9573789677419356"
      ]
     },
     "execution_count": 17,
     "metadata": {},
     "output_type": "execute_result"
    }
   ],
   "source": [
    "df[\"Score\"].var()"
   ]
  },
  {
   "cell_type": "code",
   "execution_count": 18,
   "id": "6f10d49f",
   "metadata": {},
   "outputs": [
    {
     "data": {
      "text/plain": [
       "3.193166129032258"
      ]
     },
     "execution_count": 18,
     "metadata": {},
     "output_type": "execute_result"
    }
   ],
   "source": [
    "df[\"Weigh\"].var()"
   ]
  },
  {
   "cell_type": "markdown",
   "id": "a6bce4b8",
   "metadata": {},
   "source": [
    "#### 5) Calculate standard deviation of Points, Score, Weigh"
   ]
  },
  {
   "cell_type": "code",
   "execution_count": 19,
   "id": "28902f52",
   "metadata": {},
   "outputs": [
    {
     "data": {
      "text/plain": [
       "0.5346787360709716"
      ]
     },
     "execution_count": 19,
     "metadata": {},
     "output_type": "execute_result"
    }
   ],
   "source": [
    "df[\"Points\"].std()"
   ]
  },
  {
   "cell_type": "code",
   "execution_count": 20,
   "id": "83fdbf57",
   "metadata": {},
   "outputs": [
    {
     "data": {
      "text/plain": [
       "0.9784574429896967"
      ]
     },
     "execution_count": 20,
     "metadata": {},
     "output_type": "execute_result"
    }
   ],
   "source": [
    "df[\"Score\"].std()"
   ]
  },
  {
   "cell_type": "code",
   "execution_count": 21,
   "id": "2f507f12",
   "metadata": {},
   "outputs": [
    {
     "data": {
      "text/plain": [
       "1.7869432360968431"
      ]
     },
     "execution_count": 21,
     "metadata": {},
     "output_type": "execute_result"
    }
   ],
   "source": [
    "df[\"Weigh\"].std()"
   ]
  },
  {
   "cell_type": "markdown",
   "id": "2dcd3d04",
   "metadata": {},
   "source": [
    "#### 6) Calculate Range of Points, Score, Weigh"
   ]
  },
  {
   "cell_type": "code",
   "execution_count": 22,
   "id": "086a14c4",
   "metadata": {},
   "outputs": [
    {
     "data": {
      "text/plain": [
       "2.17"
      ]
     },
     "execution_count": 22,
     "metadata": {},
     "output_type": "execute_result"
    }
   ],
   "source": [
    "R1= df[\"Points\"].max()-df[\"Points\"].min()\n",
    "R1"
   ]
  },
  {
   "cell_type": "code",
   "execution_count": 23,
   "id": "fd05badf",
   "metadata": {},
   "outputs": [
    {
     "data": {
      "text/plain": [
       "3.9110000000000005"
      ]
     },
     "execution_count": 23,
     "metadata": {},
     "output_type": "execute_result"
    }
   ],
   "source": [
    "R2= df[\"Score\"].max()-df[\"Score\"].min()\n",
    "R2"
   ]
  },
  {
   "cell_type": "code",
   "execution_count": 24,
   "id": "24251385",
   "metadata": {},
   "outputs": [
    {
     "data": {
      "text/plain": [
       "8.399999999999999"
      ]
     },
     "execution_count": 24,
     "metadata": {},
     "output_type": "execute_result"
    }
   ],
   "source": [
    "R3= df[\"Weigh\"].max()-df[\"Weigh\"].min()\n",
    "R3"
   ]
  },
  {
   "cell_type": "code",
   "execution_count": 25,
   "id": "9ed26b84",
   "metadata": {},
   "outputs": [],
   "source": [
    "# From this dataset we get central tendency values(mean, meadian, mode), spread(variance, std) and range \n",
    "# for points, score and weigh"
   ]
  },
  {
   "cell_type": "code",
   "execution_count": 26,
   "id": "aeb29056",
   "metadata": {},
   "outputs": [],
   "source": [
    "X = [108, 110, 123, 134, 135, 145, 167, 187, 199]"
   ]
  },
  {
   "cell_type": "code",
   "execution_count": 27,
   "id": "ecf7807d",
   "metadata": {},
   "outputs": [
    {
     "data": {
      "text/plain": [
       "145.33333333333334"
      ]
     },
     "execution_count": 27,
     "metadata": {},
     "output_type": "execute_result"
    }
   ],
   "source": [
    "sum(X)/9"
   ]
  },
  {
   "cell_type": "code",
   "execution_count": 28,
   "id": "db240634",
   "metadata": {},
   "outputs": [
    {
     "data": {
      "text/plain": [
       "'Q9) Calculate Skewness, Kurtosis & draw inferences on the following data\\n\\n      Cars speed and distance \\n      Use Q9_a.csv\\n      \\n      SP and Weight(WT)\\n      Use Q9_b.csv\\n'"
      ]
     },
     "execution_count": 28,
     "metadata": {},
     "output_type": "execute_result"
    }
   ],
   "source": [
    "'''Q9) Calculate Skewness, Kurtosis & draw inferences on the following data\n",
    "\n",
    "      Cars speed and distance \n",
    "      Use Q9_a.csv\n",
    "      \n",
    "      SP and Weight(WT)\n",
    "      Use Q9_b.csv\n",
    "'''"
   ]
  },
  {
   "cell_type": "code",
   "execution_count": 3,
   "id": "a1156f45",
   "metadata": {},
   "outputs": [],
   "source": [
    "#For skew, kurt import the respective liraries.\n",
    "from scipy.stats import skew, kurtosis"
   ]
  },
  {
   "cell_type": "code",
   "execution_count": 30,
   "id": "ed3a7708",
   "metadata": {},
   "outputs": [],
   "source": [
    "#Read the first dataset Q9_a.csv to find skew, kurt values for speed and distance\n",
    "ds = pd.read_csv(\"C:/Users/HP/Desktop/DATA SCIENCE AUG 2023/01_SWAPNL_DESAI_BATCH_(21082023)/10_DS_ASSIGNMENTS/01_BASIC_STATS_LEVEL_01/Q9_a.csv\")"
   ]
  },
  {
   "cell_type": "code",
   "execution_count": 31,
   "id": "c4177ab8",
   "metadata": {},
   "outputs": [],
   "source": [
    "ds= pd.read_csv(\"Q9_a.csv\")              #In both way we can read the csv file"
   ]
  },
  {
   "cell_type": "code",
   "execution_count": 32,
   "id": "9357ecd5",
   "metadata": {},
   "outputs": [
    {
     "data": {
      "text/html": [
       "<div>\n",
       "<style scoped>\n",
       "    .dataframe tbody tr th:only-of-type {\n",
       "        vertical-align: middle;\n",
       "    }\n",
       "\n",
       "    .dataframe tbody tr th {\n",
       "        vertical-align: top;\n",
       "    }\n",
       "\n",
       "    .dataframe thead th {\n",
       "        text-align: right;\n",
       "    }\n",
       "</style>\n",
       "<table border=\"1\" class=\"dataframe\">\n",
       "  <thead>\n",
       "    <tr style=\"text-align: right;\">\n",
       "      <th></th>\n",
       "      <th>Index</th>\n",
       "      <th>speed</th>\n",
       "      <th>dist</th>\n",
       "    </tr>\n",
       "  </thead>\n",
       "  <tbody>\n",
       "    <tr>\n",
       "      <th>0</th>\n",
       "      <td>1</td>\n",
       "      <td>4</td>\n",
       "      <td>2</td>\n",
       "    </tr>\n",
       "    <tr>\n",
       "      <th>1</th>\n",
       "      <td>2</td>\n",
       "      <td>4</td>\n",
       "      <td>10</td>\n",
       "    </tr>\n",
       "    <tr>\n",
       "      <th>2</th>\n",
       "      <td>3</td>\n",
       "      <td>7</td>\n",
       "      <td>4</td>\n",
       "    </tr>\n",
       "    <tr>\n",
       "      <th>3</th>\n",
       "      <td>4</td>\n",
       "      <td>7</td>\n",
       "      <td>22</td>\n",
       "    </tr>\n",
       "    <tr>\n",
       "      <th>4</th>\n",
       "      <td>5</td>\n",
       "      <td>8</td>\n",
       "      <td>16</td>\n",
       "    </tr>\n",
       "  </tbody>\n",
       "</table>\n",
       "</div>"
      ],
      "text/plain": [
       "   Index  speed  dist\n",
       "0      1      4     2\n",
       "1      2      4    10\n",
       "2      3      7     4\n",
       "3      4      7    22\n",
       "4      5      8    16"
      ]
     },
     "execution_count": 32,
     "metadata": {},
     "output_type": "execute_result"
    }
   ],
   "source": [
    "ds.head()                 #top 5 default rows"
   ]
  },
  {
   "cell_type": "code",
   "execution_count": 33,
   "id": "8faf20e8",
   "metadata": {},
   "outputs": [
    {
     "data": {
      "text/html": [
       "<div>\n",
       "<style scoped>\n",
       "    .dataframe tbody tr th:only-of-type {\n",
       "        vertical-align: middle;\n",
       "    }\n",
       "\n",
       "    .dataframe tbody tr th {\n",
       "        vertical-align: top;\n",
       "    }\n",
       "\n",
       "    .dataframe thead th {\n",
       "        text-align: right;\n",
       "    }\n",
       "</style>\n",
       "<table border=\"1\" class=\"dataframe\">\n",
       "  <thead>\n",
       "    <tr style=\"text-align: right;\">\n",
       "      <th></th>\n",
       "      <th>Index</th>\n",
       "      <th>speed</th>\n",
       "      <th>dist</th>\n",
       "    </tr>\n",
       "  </thead>\n",
       "  <tbody>\n",
       "    <tr>\n",
       "      <th>45</th>\n",
       "      <td>46</td>\n",
       "      <td>24</td>\n",
       "      <td>70</td>\n",
       "    </tr>\n",
       "    <tr>\n",
       "      <th>46</th>\n",
       "      <td>47</td>\n",
       "      <td>24</td>\n",
       "      <td>92</td>\n",
       "    </tr>\n",
       "    <tr>\n",
       "      <th>47</th>\n",
       "      <td>48</td>\n",
       "      <td>24</td>\n",
       "      <td>93</td>\n",
       "    </tr>\n",
       "    <tr>\n",
       "      <th>48</th>\n",
       "      <td>49</td>\n",
       "      <td>24</td>\n",
       "      <td>120</td>\n",
       "    </tr>\n",
       "    <tr>\n",
       "      <th>49</th>\n",
       "      <td>50</td>\n",
       "      <td>25</td>\n",
       "      <td>85</td>\n",
       "    </tr>\n",
       "  </tbody>\n",
       "</table>\n",
       "</div>"
      ],
      "text/plain": [
       "    Index  speed  dist\n",
       "45     46     24    70\n",
       "46     47     24    92\n",
       "47     48     24    93\n",
       "48     49     24   120\n",
       "49     50     25    85"
      ]
     },
     "execution_count": 33,
     "metadata": {},
     "output_type": "execute_result"
    }
   ],
   "source": [
    "ds.tail()                #bottom 5 default rows"
   ]
  },
  {
   "cell_type": "code",
   "execution_count": 34,
   "id": "3b37a00c",
   "metadata": {},
   "outputs": [
    {
     "name": "stdout",
     "output_type": "stream",
     "text": [
      "<class 'pandas.core.frame.DataFrame'>\n",
      "RangeIndex: 50 entries, 0 to 49\n",
      "Data columns (total 3 columns):\n",
      " #   Column  Non-Null Count  Dtype\n",
      "---  ------  --------------  -----\n",
      " 0   Index   50 non-null     int64\n",
      " 1   speed   50 non-null     int64\n",
      " 2   dist    50 non-null     int64\n",
      "dtypes: int64(3)\n",
      "memory usage: 1.3 KB\n"
     ]
    }
   ],
   "source": [
    "ds.info()"
   ]
  },
  {
   "cell_type": "code",
   "execution_count": 35,
   "id": "f230e542",
   "metadata": {},
   "outputs": [
    {
     "name": "stdout",
     "output_type": "stream",
     "text": [
      "-0.11395477012828319\n",
      "0.7824835173114966\n"
     ]
    }
   ],
   "source": [
    "# Calculate skewness for 'speed' and 'distance'\n",
    "skew_speed = skew(ds['speed'])\n",
    "skew_distance = skew(ds['dist'])\n",
    "\n",
    "print(skew_speed)\n",
    "print(skew_distance)"
   ]
  },
  {
   "cell_type": "code",
   "execution_count": 36,
   "id": "3a26bf23",
   "metadata": {},
   "outputs": [
    {
     "name": "stdout",
     "output_type": "stream",
     "text": [
      "-0.5771474239437371\n",
      "0.24801865717051808\n"
     ]
    }
   ],
   "source": [
    "# Calculate kurtosis for 'speed' and 'distance'\n",
    "kurtosis_speed = kurtosis(ds['speed'])\n",
    "kurtosis_distance = kurtosis(ds['dist'])\n",
    "\n",
    "print(kurtosis_speed)\n",
    "print(kurtosis_distance)"
   ]
  },
  {
   "cell_type": "code",
   "execution_count": 37,
   "id": "e18b4a29",
   "metadata": {},
   "outputs": [],
   "source": [
    "#Read the second dataset Q9_b.csv to find skew, kurt values for speed and distance\n",
    "ds1= pd.read_csv(\"Q9_b.csv\")            "
   ]
  },
  {
   "cell_type": "code",
   "execution_count": 38,
   "id": "1c2c3e5a",
   "metadata": {},
   "outputs": [
    {
     "data": {
      "text/html": [
       "<div>\n",
       "<style scoped>\n",
       "    .dataframe tbody tr th:only-of-type {\n",
       "        vertical-align: middle;\n",
       "    }\n",
       "\n",
       "    .dataframe tbody tr th {\n",
       "        vertical-align: top;\n",
       "    }\n",
       "\n",
       "    .dataframe thead th {\n",
       "        text-align: right;\n",
       "    }\n",
       "</style>\n",
       "<table border=\"1\" class=\"dataframe\">\n",
       "  <thead>\n",
       "    <tr style=\"text-align: right;\">\n",
       "      <th></th>\n",
       "      <th>Unnamed: 0</th>\n",
       "      <th>SP</th>\n",
       "      <th>WT</th>\n",
       "    </tr>\n",
       "  </thead>\n",
       "  <tbody>\n",
       "    <tr>\n",
       "      <th>0</th>\n",
       "      <td>1</td>\n",
       "      <td>104.185353</td>\n",
       "      <td>28.762059</td>\n",
       "    </tr>\n",
       "    <tr>\n",
       "      <th>1</th>\n",
       "      <td>2</td>\n",
       "      <td>105.461264</td>\n",
       "      <td>30.466833</td>\n",
       "    </tr>\n",
       "    <tr>\n",
       "      <th>2</th>\n",
       "      <td>3</td>\n",
       "      <td>105.461264</td>\n",
       "      <td>30.193597</td>\n",
       "    </tr>\n",
       "    <tr>\n",
       "      <th>3</th>\n",
       "      <td>4</td>\n",
       "      <td>113.461264</td>\n",
       "      <td>30.632114</td>\n",
       "    </tr>\n",
       "    <tr>\n",
       "      <th>4</th>\n",
       "      <td>5</td>\n",
       "      <td>104.461264</td>\n",
       "      <td>29.889149</td>\n",
       "    </tr>\n",
       "  </tbody>\n",
       "</table>\n",
       "</div>"
      ],
      "text/plain": [
       "   Unnamed: 0          SP         WT\n",
       "0           1  104.185353  28.762059\n",
       "1           2  105.461264  30.466833\n",
       "2           3  105.461264  30.193597\n",
       "3           4  113.461264  30.632114\n",
       "4           5  104.461264  29.889149"
      ]
     },
     "execution_count": 38,
     "metadata": {},
     "output_type": "execute_result"
    }
   ],
   "source": [
    "ds1.head()"
   ]
  },
  {
   "cell_type": "code",
   "execution_count": 39,
   "id": "60c44caf",
   "metadata": {},
   "outputs": [
    {
     "data": {
      "text/html": [
       "<div>\n",
       "<style scoped>\n",
       "    .dataframe tbody tr th:only-of-type {\n",
       "        vertical-align: middle;\n",
       "    }\n",
       "\n",
       "    .dataframe tbody tr th {\n",
       "        vertical-align: top;\n",
       "    }\n",
       "\n",
       "    .dataframe thead th {\n",
       "        text-align: right;\n",
       "    }\n",
       "</style>\n",
       "<table border=\"1\" class=\"dataframe\">\n",
       "  <thead>\n",
       "    <tr style=\"text-align: right;\">\n",
       "      <th></th>\n",
       "      <th>Unnamed: 0</th>\n",
       "      <th>SP</th>\n",
       "      <th>WT</th>\n",
       "    </tr>\n",
       "  </thead>\n",
       "  <tbody>\n",
       "    <tr>\n",
       "      <th>76</th>\n",
       "      <td>77</td>\n",
       "      <td>169.598513</td>\n",
       "      <td>16.132947</td>\n",
       "    </tr>\n",
       "    <tr>\n",
       "      <th>77</th>\n",
       "      <td>78</td>\n",
       "      <td>150.576579</td>\n",
       "      <td>37.923113</td>\n",
       "    </tr>\n",
       "    <tr>\n",
       "      <th>78</th>\n",
       "      <td>79</td>\n",
       "      <td>151.598513</td>\n",
       "      <td>15.769625</td>\n",
       "    </tr>\n",
       "    <tr>\n",
       "      <th>79</th>\n",
       "      <td>80</td>\n",
       "      <td>167.944460</td>\n",
       "      <td>39.423099</td>\n",
       "    </tr>\n",
       "    <tr>\n",
       "      <th>80</th>\n",
       "      <td>81</td>\n",
       "      <td>139.840817</td>\n",
       "      <td>34.948615</td>\n",
       "    </tr>\n",
       "  </tbody>\n",
       "</table>\n",
       "</div>"
      ],
      "text/plain": [
       "    Unnamed: 0          SP         WT\n",
       "76          77  169.598513  16.132947\n",
       "77          78  150.576579  37.923113\n",
       "78          79  151.598513  15.769625\n",
       "79          80  167.944460  39.423099\n",
       "80          81  139.840817  34.948615"
      ]
     },
     "execution_count": 39,
     "metadata": {},
     "output_type": "execute_result"
    }
   ],
   "source": [
    "ds1.tail()"
   ]
  },
  {
   "cell_type": "code",
   "execution_count": 40,
   "id": "89e4e7f8",
   "metadata": {},
   "outputs": [
    {
     "name": "stdout",
     "output_type": "stream",
     "text": [
      "<class 'pandas.core.frame.DataFrame'>\n",
      "RangeIndex: 81 entries, 0 to 80\n",
      "Data columns (total 3 columns):\n",
      " #   Column      Non-Null Count  Dtype  \n",
      "---  ------      --------------  -----  \n",
      " 0   Unnamed: 0  81 non-null     int64  \n",
      " 1   SP          81 non-null     float64\n",
      " 2   WT          81 non-null     float64\n",
      "dtypes: float64(2), int64(1)\n",
      "memory usage: 2.0 KB\n"
     ]
    }
   ],
   "source": [
    "ds1.info()"
   ]
  },
  {
   "cell_type": "code",
   "execution_count": 41,
   "id": "ce4fa554",
   "metadata": {},
   "outputs": [
    {
     "name": "stdout",
     "output_type": "stream",
     "text": [
      "1.5814536794423764\n",
      "-0.6033099322115126\n"
     ]
    }
   ],
   "source": [
    "# Calculate skewness for 'sp' and 'wt'\n",
    "skew_SP = skew(ds1['SP'])\n",
    "skew_WT = skew(ds1['WT'])\n",
    "\n",
    "print(skew_SP)\n",
    "print(skew_WT)"
   ]
  },
  {
   "cell_type": "code",
   "execution_count": 42,
   "id": "235a8ec5",
   "metadata": {},
   "outputs": [
    {
     "name": "stdout",
     "output_type": "stream",
     "text": [
      "2.7235214865269244\n",
      "0.8194658792266849\n"
     ]
    }
   ],
   "source": [
    "# Calculate kurtosis for 'sp' and 'wt'\n",
    "kurtosis_SP = kurtosis(ds1['SP'])\n",
    "kurtosis_WT = kurtosis(ds1['WT'])\n",
    "\n",
    "print(kurtosis_SP)\n",
    "print(kurtosis_WT)"
   ]
  },
  {
   "cell_type": "code",
   "execution_count": null,
   "id": "d58b6daf",
   "metadata": {},
   "outputs": [],
   "source": [
    "'''\n",
    "Q11) Suppose we want to estimate the average weight of an adult male in Mexico. We draw a random sample of 2,000 men from a \n",
    "population of 3,000,000 men and weigh them. We find that the average person in our sample weighs 200 pounds, and the standard \n",
    "deviation of the sample is 30 pounds. Calculate 94%,98%,96% confidence interval?\n",
    "'''"
   ]
  },
  {
   "cell_type": "code",
   "execution_count": 1,
   "id": "209c31a7",
   "metadata": {},
   "outputs": [],
   "source": [
    "#Firstly import all necessary libraries\n",
    "import scipy.stats as stats\n",
    "import math"
   ]
  },
  {
   "cell_type": "code",
   "execution_count": 4,
   "id": "e3908efd",
   "metadata": {},
   "outputs": [
    {
     "name": "stdout",
     "output_type": "stream",
     "text": [
      "94% CI: (198.7376089443071, 201.2623910556929)\n",
      "98% CI: (198.4381860483216, 201.5618139516784)\n",
      "96% CI: (198.6214037429732, 201.3785962570268)\n"
     ]
    }
   ],
   "source": [
    "# Given data\n",
    "sample_mean = 200\n",
    "sample_sd = 30\n",
    "sample_size = 2000\n",
    "\n",
    "# Degrees of freedom for a t-distribution\n",
    "df = sample_size - 1\n",
    "# Calculate t-scores for different confidence levels\n",
    "t_94 = stats.t.ppf(0.97, df)  # for a 94% CI\n",
    "t_98 = stats.t.ppf(0.99, df)  # for a 98% CI\n",
    "t_96 = stats.t.ppf(0.98, df)  # for a 96% CI\n",
    "\n",
    "# Calculate margin of error for each confidence level\n",
    "margin_of_error_94 = t_94 * (sample_sd / math.sqrt(sample_size))\n",
    "margin_of_error_98 = t_98 * (sample_sd / math.sqrt(sample_size))\n",
    "margin_of_error_96 = t_96 * (sample_sd / math.sqrt(sample_size))\n",
    "\n",
    "# Calculate confidence intervals\n",
    "confidence_interval_94 = (sample_mean - margin_of_error_94, sample_mean + margin_of_error_94)\n",
    "confidence_interval_98 = (sample_mean - margin_of_error_98, sample_mean + margin_of_error_98)\n",
    "confidence_interval_96 = (sample_mean - margin_of_error_96, sample_mean + margin_of_error_96)\n",
    "\n",
    "# Print the results\n",
    "print(f\"94% CI:\",confidence_interval_94)\n",
    "print(f\"98% CI:\",confidence_interval_98)\n",
    "print(f\"96% CI:\",confidence_interval_96)"
   ]
  },
  {
   "cell_type": "code",
   "execution_count": null,
   "id": "13f80c06",
   "metadata": {},
   "outputs": [],
   "source": []
  }
 ],
 "metadata": {
  "kernelspec": {
   "display_name": "Python 3 (ipykernel)",
   "language": "python",
   "name": "python3"
  },
  "language_info": {
   "codemirror_mode": {
    "name": "ipython",
    "version": 3
   },
   "file_extension": ".py",
   "mimetype": "text/x-python",
   "name": "python",
   "nbconvert_exporter": "python",
   "pygments_lexer": "ipython3",
   "version": "3.10.9"
  }
 },
 "nbformat": 4,
 "nbformat_minor": 5
}
